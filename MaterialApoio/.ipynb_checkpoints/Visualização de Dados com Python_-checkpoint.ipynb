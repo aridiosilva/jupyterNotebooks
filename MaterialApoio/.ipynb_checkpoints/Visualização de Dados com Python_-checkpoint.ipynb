{
 "cells": [
  {
   "cell_type": "markdown",
   "metadata": {},
   "source": [
    "# $\\Large \\color{blue}{Introdução \\, a \\, Visualização \\, de \\, Dados\\, com \\,Python}$ "
   ]
  },
  {
   "cell_type": "markdown",
   "metadata": {},
   "source": [
    "\n",
    "## Aprenderemos como criar gráficos básicos usando [Pandas](https://pandas.pydata.org/) e as bibliotecas [Matplotlib](https://matplotlib.org/),  [Seaborn](https://seaborn.pydata.org/) e [Plotly](https://plot.ly/python/)\n"
   ]
  },
  {
   "cell_type": "markdown",
   "metadata": {},
   "source": [
    "<img align=\"center\" style=\"padding-right:0px;\" src=\"ferramentas.jpg\">\n",
    "<!--BOOK_INFORMATION-->"
   ]
  },
  {
   "cell_type": "code",
   "execution_count": null,
   "metadata": {
    "scrolled": true
   },
   "outputs": [],
   "source": [
    "from IPython.display import Video\n",
    "Video(\"video.mp4\")"
   ]
  },
  {
   "cell_type": "markdown",
   "metadata": {},
   "source": [
    "# Pra não dizer que não falei das flores"
   ]
  },
  {
   "cell_type": "markdown",
   "metadata": {},
   "source": [
    "<img align=\"left\" style=\"padding-right:0px;\" src=\"iris.png\">"
   ]
  },
  {
   "cell_type": "code",
   "execution_count": 1,
   "metadata": {},
   "outputs": [],
   "source": [
    "# Importando as bibliotecas do Python para manipulação de dados e plotagem de gráficos\n",
    "#\n",
    "import pandas as pd # biblioteca para criação e manipulaçõa de DataFrames\n",
    "import numpy as np # cálculo algébrico\n",
    "import matplotlib.pyplot as plt # visualizações dos dados\n",
    "%matplotlib inline   \n",
    "#\n",
    "import seaborn as sns  # visualização mais elaborado\n",
    "sns.set() # configuração padrão do Seaborn"
   ]
  },
  {
   "cell_type": "code",
   "execution_count": null,
   "metadata": {},
   "outputs": [],
   "source": [
    "# Instalando plotly\n",
    "#\n",
    "!pip install plotly"
   ]
  },
  {
   "cell_type": "code",
   "execution_count": null,
   "metadata": {},
   "outputs": [],
   "source": [
    "# Plotly para criação de gráficos interativos\n",
    "#\n",
    "import plotly.offline as py # mostrar o gráfico no notebook e salvar o resultado em um arquivo\n",
    "#\n",
    "import plotly.graph_objs as go  # gera os gráficos de fato: gráficos de line, barra, setores, etc\n",
    "#\n",
    "py.init_notebook_mode(connected=True)   # Plota os gráficos offline no Jupyter notebook\n",
    "#\n",
    "#plt.savefig('nome_arquivo.png')"
   ]
  },
  {
   "cell_type": "code",
   "execution_count": null,
   "metadata": {},
   "outputs": [],
   "source": []
  },
  {
   "cell_type": "markdown",
   "metadata": {},
   "source": [
    "# Importando o $dataset \\, \\color{red}{iris.csv}$ do repositório [UCI](https://archive.ics.uci.edu)"
   ]
  },
  {
   "cell_type": "code",
   "execution_count": null,
   "metadata": {},
   "outputs": [],
   "source": [
    "# Importando a base de dados \"iris\" do repositório \"UCI\"\n",
    "# A url abaixo foi pesquisada no google\n",
    "#\n",
    "url = \"https://archive.ics.uci.edu/ml/machine-learning-databases/iris/iris.data\"\n",
    "#\n",
    "colunas=['sepal_length', 'sepal_width', 'petal_length', 'petal_width', 'class']\n",
    "#\n",
    "iris = pd.read_csv(url, names=colunas)"
   ]
  },
  {
   "cell_type": "code",
   "execution_count": null,
   "metadata": {},
   "outputs": [],
   "source": []
  },
  {
   "cell_type": "markdown",
   "metadata": {},
   "source": [
    "## Verificando as primeiras linhas do dataset"
   ]
  },
  {
   "cell_type": "code",
   "execution_count": null,
   "metadata": {},
   "outputs": [],
   "source": [
    "iris.head()"
   ]
  },
  {
   "cell_type": "code",
   "execution_count": null,
   "metadata": {
    "scrolled": true
   },
   "outputs": [],
   "source": [
    "iris.describe()"
   ]
  },
  {
   "cell_type": "markdown",
   "metadata": {},
   "source": [
    "# Gráfico de Barras\n",
    "\n",
    "## •\tOs gráficos de barras são usados para representar dados categóricos.\n",
    "\n",
    "## •\tPodem ficar confusos se houver muitas (mais de 10 p.e.) categorias.\n",
    "\n",
    "## •\tGeralmente o eixo $x$  representa as categorias e o eixo $y$ representa uma variável com a qual ele está relacionado. "
   ]
  },
  {
   "cell_type": "code",
   "execution_count": null,
   "metadata": {},
   "outputs": [],
   "source": [
    "# Gráfico de barras vertical Matplotlib\n",
    "# \n",
    "#\n",
    "#plt.figure(figsize=(10,8))\n",
    "plt.bar(iris['class'], iris['sepal_width'])\n",
    "#plt.title('Distribuição da largura da sépala')\n",
    "#plt.xlabel('Classes do dataset')\n",
    "#plt.show()"
   ]
  },
  {
   "cell_type": "code",
   "execution_count": null,
   "metadata": {},
   "outputs": [],
   "source": [
    "# Gráfico de barras horizontal Matplotlib\n",
    "# \n",
    "#plt.figure(figsize=(8,6))\n",
    "plt.barh(iris['class'], iris['sepal_width'], color='red')\n",
    "#plt.title('Distribuição da largura da sépala')\n",
    "#plt.ylabel('Classes do dataset')\n",
    "#plt.show()"
   ]
  },
  {
   "cell_type": "markdown",
   "metadata": {},
   "source": [
    "## Usando Seaborn"
   ]
  },
  {
   "cell_type": "code",
   "execution_count": null,
   "metadata": {
    "scrolled": true
   },
   "outputs": [],
   "source": [
    "# Gráfico de barras vertical Seaborn\n",
    "#\n",
    "#plt.figure(figsize=(10,6))\n",
    "sns.barplot(x='class', y='petal_length',data=iris, ci=None)\n",
    "#plt.title('Distribuição da largura da sépala')\n",
    "#plt.xlabel('Classes do dataset')\n",
    "#plt.ylabel('Largura da Sépala')\n",
    "#plt.show()"
   ]
  },
  {
   "cell_type": "markdown",
   "metadata": {},
   "source": [
    "## [Estação Meteorológica de Observação de Superfície Automática](http://www.inmet.gov.br/portal/index.php?r=estacoes/estacoesAutomaticas)"
   ]
  },
  {
   "cell_type": "markdown",
   "metadata": {},
   "source": [
    "# Criando gráfico de barras com plotly"
   ]
  },
  {
   "cell_type": "code",
   "execution_count": null,
   "metadata": {},
   "outputs": [],
   "source": [
    "clima=pd.read_csv('clima.csv')"
   ]
  },
  {
   "cell_type": "code",
   "execution_count": null,
   "metadata": {},
   "outputs": [],
   "source": [
    "clima.head()"
   ]
  },
  {
   "cell_type": "code",
   "execution_count": null,
   "metadata": {},
   "outputs": [],
   "source": [
    "chuva = go.Bar(x = clima['hora'], y = clima['precipitacao'] , name = 'Precipitação')\n",
    "data = [chuva]\n",
    "py.iplot(data)"
   ]
  },
  {
   "cell_type": "markdown",
   "metadata": {},
   "source": [
    "## Múltiplos gráfico de barras"
   ]
  },
  {
   "cell_type": "code",
   "execution_count": null,
   "metadata": {},
   "outputs": [],
   "source": [
    "umid_max = go.Bar(x = clima['hora'], y = clima['umid_max'], name = 'Umid. Máxima', marker = {'color': '#0f9ffa'})\n",
    "umid_min = go.Bar(x = clima['hora'], y = clima['umid_min'], name = 'Umid. Mínima')\n",
    "data = [umid_max, umid_min]\n",
    "py.iplot(data)"
   ]
  },
  {
   "cell_type": "markdown",
   "metadata": {},
   "source": [
    "## Empilhando barras (Stacked Bar)"
   ]
  },
  {
   "cell_type": "code",
   "execution_count": null,
   "metadata": {},
   "outputs": [],
   "source": [
    "trace1 = go.Bar(x = clima['hora'], y = clima['vento_vel'], name = 'Normal', marker = {'color': '#feca57'})\n",
    "trace2 = go.Bar(x = clima['hora'], y = clima[' vento_rajada'], name = 'Rajada', marker = {'color': '#000fff'})\n",
    "data = [trace1, trace2]\n",
    "layout = go.Layout(title = 'Velocidade do Vento (com Rajadas)', xaxis = {'title': 'Hora do Dia'}, \n",
    "                   yaxis = {'title': 'Velocidade (km/h)'}, barmode = 'stack')\n",
    "fig = go.Figure(data=data, layout=layout)\n",
    "py.iplot(fig)"
   ]
  },
  {
   "cell_type": "code",
   "execution_count": null,
   "metadata": {},
   "outputs": [],
   "source": []
  },
  {
   "cell_type": "markdown",
   "metadata": {},
   "source": [
    "#  Histograma\n",
    "\n",
    "## O histograma também representa uma distribuição de dados através de barras. \n",
    "\n",
    "## • Na maioria das vezes usado com dados $\\color{red}{numéricos \\, contínuos}$. \n",
    "\n",
    "## • O eixo $x$ geralmente representa os intervalos e o eixo $y$ representa a frequência dos dados."
   ]
  },
  {
   "cell_type": "code",
   "execution_count": null,
   "metadata": {},
   "outputs": [],
   "source": [
    "# Histograma com Matplotlib\n",
    "# para dados categóricos\n",
    "#\n",
    "iris['class'].hist()\n",
    "plt.show()"
   ]
  },
  {
   "cell_type": "code",
   "execution_count": null,
   "metadata": {},
   "outputs": [],
   "source": [
    "# Histograma com Matplotlib\n",
    "# para um atributo contínuo específico\n",
    "#\n",
    "iris['sepal_length'].hist()\n",
    "plt.show()"
   ]
  },
  {
   "cell_type": "code",
   "execution_count": null,
   "metadata": {},
   "outputs": [],
   "source": [
    "# Histograma com Matplotlib\n",
    "# para todos os atributos contínuos do dataset\n",
    "#\n",
    "iris.hist()\n",
    "plt.show()"
   ]
  },
  {
   "cell_type": "code",
   "execution_count": null,
   "metadata": {},
   "outputs": [],
   "source": [
    "# Vários Histogramas em uma mesma janela\n",
    "#\n",
    "iris.plot.hist(subplots=False, layout=(2,2), figsize=(10, 6), bins=15)\n",
    "plt.show()"
   ]
  },
  {
   "cell_type": "code",
   "execution_count": null,
   "metadata": {},
   "outputs": [],
   "source": [
    "# Vários Histogramas em janela diferentes\n",
    "#\n",
    "iris.plot.hist(subplots=True, layout=(2,2), figsize=(10, 6), bins=15)\n",
    "plt.show()"
   ]
  },
  {
   "cell_type": "markdown",
   "metadata": {},
   "source": [
    "## Histograma $- distplot() -$ com $Seaborn$"
   ]
  },
  {
   "cell_type": "code",
   "execution_count": null,
   "metadata": {},
   "outputs": [],
   "source": [
    "#def distplot(dataframe, title, y):\n",
    "plt.figure(figsize=(12,8))\n",
    "sns.distplot(iris[\"sepal_width\"], bins=10, kde=True, color='red')\n",
    "plt.title('Distribuição da largura da sépala')\n",
    "plt.xlabel('Largura da sépala(cm)')\n",
    "plt.show()"
   ]
  },
  {
   "cell_type": "markdown",
   "metadata": {},
   "source": [
    "# Gráfico de Linha\n",
    "## •\tGráficos de linhas geralmente são usados para observações ocorridas ao longo do tempo e/ou a relação entre as variáveis. \n",
    "\n",
    "## •\tO eixo $x$ pode representar o tempo, enquanto o eixo $y$ pode representar o que aconteceu a um atributo em relação ao tempo."
   ]
  },
  {
   "cell_type": "code",
   "execution_count": null,
   "metadata": {},
   "outputs": [],
   "source": []
  },
  {
   "cell_type": "code",
   "execution_count": null,
   "metadata": {},
   "outputs": [],
   "source": [
    "#clima"
   ]
  },
  {
   "cell_type": "markdown",
   "metadata": {},
   "source": [
    "## Gráfico de linha com Pandas (Matplotlib)"
   ]
  },
  {
   "cell_type": "code",
   "execution_count": null,
   "metadata": {},
   "outputs": [],
   "source": [
    "#\n",
    "temp=clima['temp_inst']\n",
    "plt.figure(figsize=(12,8))\n",
    "temp.plot.line(title='Variação da Temperatura em Manaus (05/03/2020)', color=\"green\")\n",
    "plt.xlabel('Hora do dia')\n",
    "plt.ylabel('Temperatura (ºC)')"
   ]
  },
  {
   "cell_type": "code",
   "execution_count": null,
   "metadata": {},
   "outputs": [],
   "source": []
  },
  {
   "cell_type": "code",
   "execution_count": null,
   "metadata": {},
   "outputs": [],
   "source": [
    "#\n",
    "media_temperatura=clima['temp_inst'].sum() / 24 # calcula a média da temperatura ao longo do dia\n",
    "#\n",
    "x= np.arange(-1, 25)  # define o intervalo do eixo x para potar uma reta\n",
    "#\n",
    "plt.figure(figsize=(12,8))\n",
    "temp.plot.line(title='Variação da Temperatura em Manaus (05/03/2020)', color=\"green\")\n",
    "plt.plot(x, media_temperatura*x**0, color='red',label='Média')\n",
    "plt.xlabel('Hora do dia')\n",
    "plt.ylabel('Temperatura (ºC)')"
   ]
  },
  {
   "cell_type": "code",
   "execution_count": null,
   "metadata": {},
   "outputs": [],
   "source": []
  },
  {
   "cell_type": "code",
   "execution_count": null,
   "metadata": {},
   "outputs": [],
   "source": []
  },
  {
   "cell_type": "code",
   "execution_count": null,
   "metadata": {},
   "outputs": [],
   "source": []
  },
  {
   "cell_type": "markdown",
   "metadata": {},
   "source": [
    "## Gráfico de linhas com Seaborn"
   ]
  },
  {
   "cell_type": "code",
   "execution_count": null,
   "metadata": {},
   "outputs": [],
   "source": [
    "#def distplot(dataframe, title, y):\n",
    "temp=[clima['temp_min'],clima['temp_inst'],clima['temp_max']]\n",
    "plt.figure(figsize=(14,8))\n",
    "sns.lineplot(data=temp)\n",
    "plt.xlabel('Hora do dia')\n",
    "plt.ylabel('Temperatura (ºC)')"
   ]
  },
  {
   "cell_type": "markdown",
   "metadata": {},
   "source": [
    "## Gráfico de linhas com plotly"
   ]
  },
  {
   "cell_type": "code",
   "execution_count": null,
   "metadata": {},
   "outputs": [],
   "source": [
    "# Gráfico de linhas com marcadores (única linha)\n",
    "#\n",
    "temperatura = go.Scatter(x = clima['hora'], y = clima['temp_inst'], mode = 'markers+lines', name = 'Temp. Inst.')\n",
    "#\n",
    "#\n",
    "data=[temperatura]\n",
    "\n",
    "py.iplot(data)"
   ]
  },
  {
   "cell_type": "code",
   "execution_count": null,
   "metadata": {},
   "outputs": [],
   "source": [
    "# Gráfico de linhas com marcadores (múltiplas linhas)\n",
    "#\n",
    "media_temp = (clima['temp_min'] + clima['temp_max']) /2    # Cálculo da média das temperaturas\n",
    "#\n",
    "temp_min = go.Scatter(x = clima['hora'], y = clima['temp_min'], mode = 'markers+lines', name = 'Temp. Mínima')\n",
    "#\n",
    "temp_inst = go.Scatter(x = clima['hora'], y = clima['temp_inst'], mode = 'markers+lines', name = 'Temp. Inst.')\n",
    "#\n",
    "temp_max = go.Scatter(x = clima['hora'], y = clima['temp_max'], mode = 'markers+lines', name = 'Temp. Máxima')\n",
    "#\n",
    "temp_media = go.Scatter(x = clima['hora'], y = media_temp, mode = 'markers+lines', name = 'Temp. Média')\n",
    "#\n",
    "data=[temp_min, temp_inst, temp_max, temp_media]\n",
    "\n",
    "py.iplot(data)"
   ]
  },
  {
   "cell_type": "markdown",
   "metadata": {},
   "source": [
    "# Gráficos de Dispersão - Scatter Plot\n",
    "\n",
    "## •\tGráficos de dispersão são usados para visualizar a distribuição dos dados em relação a duas variáveis.\n",
    "\n",
    "## •\tMuito útil para observar a correlação entre as variáveis,"
   ]
  },
  {
   "cell_type": "markdown",
   "metadata": {},
   "source": [
    "<img align=\"left\" style=\"padding-right:0px;\" src=\"correlacao.png\">"
   ]
  },
  {
   "cell_type": "code",
   "execution_count": null,
   "metadata": {},
   "outputs": [],
   "source": [
    "### Scatter Plot\n",
    "#\n",
    "fig= plt.subplots(figsize=(15,8))\n",
    "sns.scatterplot(x='sepal_length', y='sepal_width', data=iris, hue=\"class\")"
   ]
  },
  {
   "cell_type": "code",
   "execution_count": null,
   "metadata": {},
   "outputs": [],
   "source": []
  },
  {
   "cell_type": "code",
   "execution_count": null,
   "metadata": {},
   "outputs": [],
   "source": [
    "# Importar scatter_matrix\n",
    "#\n",
    "from pandas.plotting import scatter_matrix\n",
    "#\n",
    "## PLotar o gráfico\n",
    "#\n",
    "fig, ax = plt.subplots(figsize=(16,14))\n",
    "scatter_matrix(iris,ax=ax, color='red')\n",
    "plt.show()"
   ]
  },
  {
   "cell_type": "markdown",
   "metadata": {},
   "source": [
    "## Pairplot"
   ]
  },
  {
   "cell_type": "code",
   "execution_count": null,
   "metadata": {},
   "outputs": [],
   "source": [
    "#sns.pairplot(iris) \n",
    "sns.pairplot(iris, hue='class', size=3.5);"
   ]
  },
  {
   "cell_type": "markdown",
   "metadata": {},
   "source": [
    "# Mapa de calor (Heatmap)\n",
    "## •\t Os mapas de calor são muito usados para a observação da correlação entre atributos em um conjunto de dados"
   ]
  },
  {
   "cell_type": "code",
   "execution_count": null,
   "metadata": {},
   "outputs": [],
   "source": [
    "# Explicar em datalhes o gráfico abaixo\n",
    "#\n",
    "fig= plt.subplots(figsize=(10,6))\n",
    "sns.heatmap(iris.corr(), annot=True)"
   ]
  },
  {
   "cell_type": "code",
   "execution_count": null,
   "metadata": {},
   "outputs": [],
   "source": [
    "# Explicar em datalhes o gráfico abaixo\n",
    "#\n",
    "fig= plt.subplots(figsize=(18,6))\n",
    "sns.heatmap(clima.corr(), annot=True)"
   ]
  },
  {
   "cell_type": "markdown",
   "metadata": {},
   "source": [
    "# Gráfico de Setores (Pizza)\n",
    "\n",
    "## Relaciona as partes com o todo"
   ]
  },
  {
   "cell_type": "markdown",
   "metadata": {},
   "source": [
    "<img align=\"center\" style=\"padding-right:0px;\" src=\"matematica_AM.jpg\">"
   ]
  },
  {
   "cell_type": "markdown",
   "metadata": {},
   "source": [
    "## [Kaggle - Predict survival on the Titanic and get familiar with ML basics](https://www.kaggle.com/c/titanic)\n",
    "\n",
    "<img align=\"center\" style=\"padding-right:10px;\" src=\"titanic_kaggle.png\">\n",
    "<!--BOOK_INFORMATION-->"
   ]
  },
  {
   "cell_type": "markdown",
   "metadata": {},
   "source": [
    "# Carregando o dataset $\\color{red}{titanic.csv}$ baixado do Kaggle e pré-processado"
   ]
  },
  {
   "cell_type": "code",
   "execution_count": null,
   "metadata": {},
   "outputs": [],
   "source": [
    "titanic = pd.read_csv('train.csv')"
   ]
  },
  {
   "cell_type": "code",
   "execution_count": null,
   "metadata": {},
   "outputs": [],
   "source": [
    "titanic.head()"
   ]
  },
  {
   "cell_type": "code",
   "execution_count": null,
   "metadata": {
    "scrolled": true
   },
   "outputs": [],
   "source": [
    "# Gráfico de setores com Pandas\n",
    "# (autopct='%.2f%%') mostra a porcentagem\n",
    "## (shadow=True) o gráfico fica sombreado\n",
    "## (startangle=90) levemente inclinado\n",
    "#\n",
    "#\n",
    "nclasses=titanic.Pclass.value_counts()\n",
    "fig=plt.figure(figsize=(10,6))\n",
    "nclasses.plot(kind='pie', autopct='%.2f%%', shadow=True, startangle=90)\n",
    "plt.axis('equal')  # Para deixar o gráfico redondo\n",
    "plt.title('Percentual de passageiros por Classe')\n",
    "plt.show()"
   ]
  },
  {
   "cell_type": "code",
   "execution_count": null,
   "metadata": {},
   "outputs": [],
   "source": [
    "nsobreviventes=titanic.Survived.value_counts()\n",
    "fig=plt.figure(figsize=(14,8))\n",
    "nsobreviventes.plot(kind='pie', autopct='%.2f%%', shadow=True, startangle=90)\n",
    "plt.axis('equal')  # Para deixar o gráfico redondo\n",
    "plt.title('Percentual de passageiros que sobreviveram \"0 => Não\"  \"1 => Sim\"')\n",
    "plt.show()"
   ]
  },
  {
   "cell_type": "markdown",
   "metadata": {},
   "source": [
    "# Box Plot \n",
    "\n",
    "## •\t A \"Caixa\" (Box) inicia no 1º quartil (25% dos dados ordenados) e termina no 3º quartil ( 75% dos dados ordenados). A linha no interior do retângulo indica o valor da $\\color{red}{mediana}$ (50% dos dados ordenados). Os dois $\\color{red}{bigodes}$ na parte superior e inferior do retângulo são obtidos a partir da $\\color{red}{amplitude}$ da caixa. \n",
    "## • Muito utilizado para a identificação de $\\color{red}{outliers}$"
   ]
  },
  {
   "cell_type": "markdown",
   "metadata": {},
   "source": [
    "<img align=\"center\" style=\"padding-right:10px;\" src=\"box1.jpg\">"
   ]
  },
  {
   "cell_type": "markdown",
   "metadata": {},
   "source": [
    "<img align=\"center\" style=\"padding-right:10px;\" src=\"box.png\">"
   ]
  },
  {
   "cell_type": "markdown",
   "metadata": {},
   "source": [
    "<img align=\"center\" style=\"padding-right:10px;\" src=\"box_.png\">"
   ]
  },
  {
   "cell_type": "code",
   "execution_count": null,
   "metadata": {
    "scrolled": true
   },
   "outputs": [],
   "source": [
    "# Box Plot com Pandas (Matplotlib)\n",
    "fig=plt.figure(figsize=(12,8))\n",
    "iris['sepal_width'].plot(kind='box', color='')\n",
    "plt.show()"
   ]
  },
  {
   "cell_type": "code",
   "execution_count": null,
   "metadata": {},
   "outputs": [],
   "source": []
  },
  {
   "cell_type": "code",
   "execution_count": null,
   "metadata": {
    "scrolled": false
   },
   "outputs": [],
   "source": [
    "iris.sort_values(by=['sepal_width'])"
   ]
  },
  {
   "cell_type": "code",
   "execution_count": null,
   "metadata": {},
   "outputs": [],
   "source": [
    "iris['sepal_width'].max()"
   ]
  },
  {
   "cell_type": "code",
   "execution_count": null,
   "metadata": {},
   "outputs": [],
   "source": []
  },
  {
   "cell_type": "code",
   "execution_count": null,
   "metadata": {},
   "outputs": [],
   "source": [
    "# Confirmar o valor da mediana\n",
    "iris.median()"
   ]
  },
  {
   "cell_type": "code",
   "execution_count": null,
   "metadata": {},
   "outputs": [],
   "source": [
    "clima.columns"
   ]
  },
  {
   "cell_type": "code",
   "execution_count": null,
   "metadata": {},
   "outputs": [],
   "source": [
    "# Box Plot com Pandas (Matplotlib)\n",
    "fig=plt.figure(figsize=(12,8))\n",
    "clima[' vento_rajada'].plot(kind='box', color='')\n",
    "plt.show()"
   ]
  },
  {
   "cell_type": "code",
   "execution_count": null,
   "metadata": {},
   "outputs": [],
   "source": [
    "clima['precipitacao'].max()\n",
    "#clima[' vento_rajada'].max()\n",
    "#clima['vento_vel'].mean()\n",
    "#clima[' vento_rajada'].mean()"
   ]
  },
  {
   "cell_type": "code",
   "execution_count": null,
   "metadata": {},
   "outputs": [],
   "source": [
    "muita_chuva=clima[clima['precipitacao']==39.2]"
   ]
  },
  {
   "cell_type": "code",
   "execution_count": null,
   "metadata": {},
   "outputs": [],
   "source": [
    "muita_chuva"
   ]
  },
  {
   "cell_type": "code",
   "execution_count": null,
   "metadata": {},
   "outputs": [],
   "source": [
    "# Box Plot com Pandas (Matplotlib)\n",
    "#\n",
    "fig=plt.figure(figsize=(12,8))\n",
    "titanic['Age'].plot(kind='box', color='')\n",
    "plt.show()"
   ]
  },
  {
   "cell_type": "code",
   "execution_count": null,
   "metadata": {},
   "outputs": [],
   "source": [
    "# Box Plot com Seaborn\n",
    "sns.catplot(x=\"Survived\", y=\"Age\", kind = \"box\", data=titanic, size=8)"
   ]
  },
  {
   "cell_type": "markdown",
   "metadata": {},
   "source": [
    "# FactorPlot (Seaborn)"
   ]
  },
  {
   "cell_type": "code",
   "execution_count": null,
   "metadata": {},
   "outputs": [],
   "source": [
    "# Explicar os detalhes desse gráfico\n",
    "#\n",
    "sns.factorplot('Sex', 'Survived', hue='Pclass', size=7, aspect=2, data=titanic)\n",
    "plt.xlabel('Sexo do passageiro')  #\n",
    "#plt.title('Comparativo entre os sobreviventes por Sexo de acordo com a Classe em que viajava')\n",
    "plt.ylabel('Percentual de sobreviventes')\n",
    "plt.show()"
   ]
  },
  {
   "cell_type": "code",
   "execution_count": null,
   "metadata": {},
   "outputs": [],
   "source": []
  },
  {
   "cell_type": "markdown",
   "metadata": {},
   "source": [
    "# Outros usos de factorplot()"
   ]
  },
  {
   "cell_type": "markdown",
   "metadata": {},
   "source": [
    "# Exoplanetas"
   ]
  },
  {
   "cell_type": "markdown",
   "metadata": {},
   "source": [
    "# Dados dos planetas\n",
    "## •\t Usaremos o conjunto de dados Planetas, disponível no pacote Seaborn\n",
    "## •\t Fornece informações sobre planetas que os astrônomos descobriram em torno de outras estrelas (conhecidas como planetas extra-solares ou exoplanetas)."
   ]
  },
  {
   "cell_type": "markdown",
   "metadata": {},
   "source": [
    "[<img align=\"left\" style=\"padding-right:0px;\" src=\"nsted_banner.jpg\">](https://exoplanetarchive.ipac.caltech.edu/cgi-bin/TblView/nph-tblView?app=ExoTbls&config=planets)"
   ]
  },
  {
   "cell_type": "code",
   "execution_count": null,
   "metadata": {},
   "outputs": [],
   "source": [
    "# Carregar o dataset disponibilizado pelo Seaborn\n",
    "#\n",
    "# planetas = sns.load_dataset('planets')"
   ]
  },
  {
   "cell_type": "code",
   "execution_count": null,
   "metadata": {},
   "outputs": [],
   "source": [
    "# Arquivo baixado da nasa\n",
    "#\n",
    "# planets = pd.read_csv(\"planets_2020.02.29_20.45.43.csv\", sep=',', comment='#')"
   ]
  },
  {
   "cell_type": "code",
   "execution_count": null,
   "metadata": {},
   "outputs": [],
   "source": [
    "# planets.head()"
   ]
  },
  {
   "cell_type": "code",
   "execution_count": null,
   "metadata": {},
   "outputs": [],
   "source": [
    "# Elimina coluna indesejada\n",
    "#\n",
    "#planets.drop('loc_rowid', axis=1, inplace=True)"
   ]
  },
  {
   "cell_type": "code",
   "execution_count": null,
   "metadata": {},
   "outputs": [],
   "source": [
    "#planets.columns"
   ]
  },
  {
   "cell_type": "code",
   "execution_count": null,
   "metadata": {},
   "outputs": [],
   "source": [
    "# Renomeia as colunas do dataset\n",
    "#\n",
    "# planets.columns=['nome','metodo_descoberta','num_plan_sist','periodo_orbita','distancia','massa','raio_terra', 'ano_descoberta',\n",
    "# 'num_luas','link','data_publicacao']"
   ]
  },
  {
   "cell_type": "code",
   "execution_count": null,
   "metadata": {},
   "outputs": [],
   "source": [
    "# Ordena pelo ano da descoberta do planeta\n",
    "#\n",
    "#planets=planets.sort_values(by=['ano_descoberta'])"
   ]
  },
  {
   "cell_type": "code",
   "execution_count": null,
   "metadata": {},
   "outputs": [],
   "source": [
    "# Salva o arquivo pre-procesado\n",
    "#\n",
    "#planets.to_csv('planets_mar_2020.csv', index=False)"
   ]
  },
  {
   "cell_type": "code",
   "execution_count": null,
   "metadata": {},
   "outputs": [],
   "source": [
    "# Carrega o arquivo que já foi pre-processado\n",
    "#\n",
    "planetas=pd.read_csv('planets_mar_2020.csv')"
   ]
  },
  {
   "cell_type": "code",
   "execution_count": null,
   "metadata": {},
   "outputs": [],
   "source": [
    "planetas.shape"
   ]
  },
  {
   "cell_type": "code",
   "execution_count": null,
   "metadata": {},
   "outputs": [],
   "source": [
    "planetas.head()"
   ]
  },
  {
   "cell_type": "code",
   "execution_count": null,
   "metadata": {
    "scrolled": true
   },
   "outputs": [],
   "source": [
    "planetas.sort_values(by='raio_terra')"
   ]
  },
  {
   "cell_type": "code",
   "execution_count": null,
   "metadata": {},
   "outputs": [],
   "source": [
    "gigantao=planetas[planetas['raio_terra']>40]"
   ]
  },
  {
   "cell_type": "code",
   "execution_count": null,
   "metadata": {},
   "outputs": [],
   "source": [
    "gigantao"
   ]
  },
  {
   "cell_type": "markdown",
   "metadata": {},
   "source": [
    "# Voltando às visualizações..."
   ]
  },
  {
   "cell_type": "code",
   "execution_count": null,
   "metadata": {
    "scrolled": true
   },
   "outputs": [],
   "source": [
    "# Usando o método factorplot do Seaborn\n",
    "#\n",
    "grafico = sns.factorplot(\"ano_descoberta\", data=planetas, aspect=3, kind=\"count\", color='steelblue')\n",
    "grafico.set_xticklabels(step=1)\n",
    "plt.show()"
   ]
  },
  {
   "cell_type": "code",
   "execution_count": null,
   "metadata": {},
   "outputs": [],
   "source": []
  },
  {
   "cell_type": "markdown",
   "metadata": {},
   "source": [
    "# Verificando o método de descoberta de cada um desses planetas:"
   ]
  },
  {
   "cell_type": "code",
   "execution_count": null,
   "metadata": {},
   "outputs": [],
   "source": [
    "# Variar o parâmetro \"aspect\"\n",
    "#\n",
    "grafico = sns.factorplot(\"ano_descoberta\", data=planetas, aspect=2.0, kind='count', hue='metodo_descoberta', \n",
    "                         order=range(2019, 2020))\n",
    "grafico.set_ylabels('Quantidade de Planetas Descobertos')\n",
    "grafico.set_xlabels('Ano da Descoberta do Planetas')"
   ]
  },
  {
   "cell_type": "code",
   "execution_count": null,
   "metadata": {},
   "outputs": [],
   "source": []
  },
  {
   "cell_type": "markdown",
   "metadata": {},
   "source": [
    "# Gráfico do Violino (Violin Plot) \n",
    "## • Combina \"KDE\" (Estimativa da Densidade do Kernel) com Boxplot\n",
    "## • Melhor descrição da distribuição dos valores. \n",
    "## • Os valores dos quartis são exibidos dentro do violino. "
   ]
  },
  {
   "cell_type": "markdown",
   "metadata": {},
   "source": [
    "### Age x Survived"
   ]
  },
  {
   "cell_type": "code",
   "execution_count": null,
   "metadata": {},
   "outputs": [],
   "source": [
    "fig = plt.figure(figsize=(18,8))\n",
    "\n",
    "sns.violinplot(x=\"Pclass\", y=\"Age\", hue=\"Survived\", data=titanic)"
   ]
  },
  {
   "cell_type": "markdown",
   "metadata": {},
   "source": [
    "A partir do gráfico $violinplot$ para o atributo Pclass (Classe), podemos ver que:\n",
    "\n",
    "- A 1ª classe bem menos crianças em comparação com as outras duas classes.\n",
    "- A 1ª classe tem mais idosos do que as outras duas classes.\n",
    "- Quase todas as crianças (entre 0 e 10 anos) da 2ª classe sobreviveram.\n",
    "- A maioria das crianças da 3ª classe sobreviveu.\n",
    "- Tiveram mais sobreviventes mais jovens na 1ª Classe que sobreviventes mais velhos."
   ]
  },
  {
   "cell_type": "code",
   "execution_count": null,
   "metadata": {},
   "outputs": [],
   "source": []
  },
  {
   "cell_type": "code",
   "execution_count": null,
   "metadata": {},
   "outputs": [],
   "source": [
    "fig = plt.figure(figsize=(18,8))\n",
    "\n",
    "sns.violinplot(x=\"Sex\", y=\"Age\", hue=\"Survived\", data=titanic)"
   ]
  }
 ],
 "metadata": {
  "kernelspec": {
   "display_name": "Python 3",
   "language": "python",
   "name": "python3"
  },
  "language_info": {
   "codemirror_mode": {
    "name": "ipython",
    "version": 3
   },
   "file_extension": ".py",
   "mimetype": "text/x-python",
   "name": "python",
   "nbconvert_exporter": "python",
   "pygments_lexer": "ipython3",
   "version": "3.8.3"
  }
 },
 "nbformat": 4,
 "nbformat_minor": 2
}
